{
 "cells": [
  {
   "cell_type": "code",
   "execution_count": 107,
   "metadata": {},
   "outputs": [],
   "source": [
    "from selenium import webdriver\n",
    "from scrapy.selector import Selector"
   ]
  },
  {
   "cell_type": "code",
   "execution_count": 93,
   "metadata": {},
   "outputs": [],
   "source": [
    "driver = webdriver.Chrome(r'E:\\Users\\Jude\\Documents\\GitHub\\Python_Scrapy_lesson\\chromedriver')"
   ]
  },
  {
   "cell_type": "code",
   "execution_count": 94,
   "metadata": {},
   "outputs": [],
   "source": [
    "driver.get('http://www.bbc.co.uk/learningenglish/english/')"
   ]
  },
  {
   "cell_type": "code",
   "execution_count": 95,
   "metadata": {},
   "outputs": [
    {
     "data": {
      "text/plain": [
       "'BBC Learning English - Learn English, learning English, English videos, grammar, pronunciation, vocabulary, exams. Everything you need to help you learn English.'"
      ]
     },
     "execution_count": 95,
     "metadata": {},
     "output_type": "execute_result"
    }
   ],
   "source": [
    "driver.title"
   ]
  },
  {
   "cell_type": "code",
   "execution_count": 109,
   "metadata": {
    "scrolled": true
   },
   "outputs": [],
   "source": [
    "sel = Selector(text = driver.page_source)"
   ]
  },
  {
   "cell_type": "code",
   "execution_count": 112,
   "metadata": {},
   "outputs": [
    {
     "data": {
      "text/plain": [
       "['/learningenglish/english/course/emw',\n",
       " '/learningenglish/english/course/lower-intermediate',\n",
       " '/learningenglish/english/course/intermediate',\n",
       " '/learningenglish/english/course/upper-intermediate',\n",
       " '/learningenglish/english/course/towards-advanced',\n",
       " '/learningenglish/english/course/english-you-need',\n",
       " '/learningenglish/english/gothedistance',\n",
       " '/learningenglish/english/course/shakespeare/unit-1']"
      ]
     },
     "execution_count": 112,
     "metadata": {},
     "output_type": "execute_result"
    }
   ],
   "source": [
    "sel.xpath('//div[@id=\"navIndex-0\"]//a/@href').extract()"
   ]
  },
  {
   "cell_type": "code",
   "execution_count": 97,
   "metadata": {},
   "outputs": [],
   "source": [
    "driver.find_element_by_xpath('//a[@class=\" bbcle-expandable-nav-button bbcle-nav-button\"]').click()"
   ]
  },
  {
   "cell_type": "code",
   "execution_count": 101,
   "metadata": {
    "scrolled": true
   },
   "outputs": [],
   "source": [
    "driver.find_element_by_xpath('//div[@class=\"bbcle-expandable-nav bbcle-course-nav-list open\"]//a[1]').click()"
   ]
  },
  {
   "cell_type": "code",
   "execution_count": 106,
   "metadata": {
    "scrolled": true
   },
   "outputs": [],
   "source": [
    "driver.find_element_by_xpath('//div[@class=\"bbcle-expandable-nav bbcle-course-nav-list open\"]//a[1]').click()"
   ]
  },
  {
   "cell_type": "code",
   "execution_count": 92,
   "metadata": {},
   "outputs": [],
   "source": [
    "driver.quit()"
   ]
  },
  {
   "cell_type": "code",
   "execution_count": null,
   "metadata": {},
   "outputs": [],
   "source": []
  }
 ],
 "metadata": {
  "kernelspec": {
   "display_name": "Python [conda env:root] *",
   "language": "python",
   "name": "conda-root-py"
  },
  "language_info": {
   "codemirror_mode": {
    "name": "ipython",
    "version": 3
   },
   "file_extension": ".py",
   "mimetype": "text/x-python",
   "name": "python",
   "nbconvert_exporter": "python",
   "pygments_lexer": "ipython3",
   "version": "3.6.8"
  }
 },
 "nbformat": 4,
 "nbformat_minor": 2
}
